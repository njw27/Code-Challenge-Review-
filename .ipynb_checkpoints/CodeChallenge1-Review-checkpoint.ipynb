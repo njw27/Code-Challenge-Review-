{
 "cells": [
  {
   "cell_type": "code",
   "execution_count": 29,
   "metadata": {},
   "outputs": [],
   "source": [
    "#Run this Cell with No Changes \n",
    "import numpy as np \n",
    "import pandas as pd \n",
    "import matplotlib.pyplot as plt \n",
    "from numbers import Number\n",
    "import warnings\n",
    "warnings.filterwarnings('ignore')\n"
   ]
  },
  {
   "cell_type": "markdown",
   "metadata": {},
   "source": [
    "## 1) Read the mpg_final CSV File into a Pandas DataFrame Called df \n",
    "\n",
    "Hint:  Make sure the data folder is in the same directory as this notebook and use 'data/mpg_final.csv'"
   ]
  },
  {
   "cell_type": "code",
   "execution_count": 30,
   "metadata": {},
   "outputs": [
    {
     "data": {
      "text/html": [
       "<div>\n",
       "<style scoped>\n",
       "    .dataframe tbody tr th:only-of-type {\n",
       "        vertical-align: middle;\n",
       "    }\n",
       "\n",
       "    .dataframe tbody tr th {\n",
       "        vertical-align: top;\n",
       "    }\n",
       "\n",
       "    .dataframe thead th {\n",
       "        text-align: right;\n",
       "    }\n",
       "</style>\n",
       "<table border=\"1\" class=\"dataframe\">\n",
       "  <thead>\n",
       "    <tr style=\"text-align: right;\">\n",
       "      <th></th>\n",
       "      <th>mpg</th>\n",
       "      <th>cylinders</th>\n",
       "      <th>displacement</th>\n",
       "      <th>horsepower</th>\n",
       "      <th>weight</th>\n",
       "      <th>acceleration</th>\n",
       "      <th>model_year</th>\n",
       "      <th>origin</th>\n",
       "      <th>name</th>\n",
       "      <th>make</th>\n",
       "    </tr>\n",
       "  </thead>\n",
       "  <tbody>\n",
       "    <tr>\n",
       "      <th>0</th>\n",
       "      <td>18.0</td>\n",
       "      <td>8</td>\n",
       "      <td>307.0</td>\n",
       "      <td>130.0</td>\n",
       "      <td>3504</td>\n",
       "      <td>12.0</td>\n",
       "      <td>70</td>\n",
       "      <td>usa</td>\n",
       "      <td>chevrolet chevelle malibu</td>\n",
       "      <td>chevrolet</td>\n",
       "    </tr>\n",
       "    <tr>\n",
       "      <th>1</th>\n",
       "      <td>15.0</td>\n",
       "      <td>8</td>\n",
       "      <td>350.0</td>\n",
       "      <td>165.0</td>\n",
       "      <td>3693</td>\n",
       "      <td>11.5</td>\n",
       "      <td>70</td>\n",
       "      <td>usa</td>\n",
       "      <td>buick skylark 320</td>\n",
       "      <td>buick</td>\n",
       "    </tr>\n",
       "    <tr>\n",
       "      <th>2</th>\n",
       "      <td>18.0</td>\n",
       "      <td>8</td>\n",
       "      <td>318.0</td>\n",
       "      <td>150.0</td>\n",
       "      <td>3436</td>\n",
       "      <td>11.0</td>\n",
       "      <td>70</td>\n",
       "      <td>usa</td>\n",
       "      <td>plymouth satellite</td>\n",
       "      <td>plymouth</td>\n",
       "    </tr>\n",
       "    <tr>\n",
       "      <th>3</th>\n",
       "      <td>16.0</td>\n",
       "      <td>8</td>\n",
       "      <td>304.0</td>\n",
       "      <td>150.0</td>\n",
       "      <td>3433</td>\n",
       "      <td>12.0</td>\n",
       "      <td>70</td>\n",
       "      <td>usa</td>\n",
       "      <td>amc rebel sst</td>\n",
       "      <td>amc</td>\n",
       "    </tr>\n",
       "    <tr>\n",
       "      <th>4</th>\n",
       "      <td>17.0</td>\n",
       "      <td>8</td>\n",
       "      <td>302.0</td>\n",
       "      <td>140.0</td>\n",
       "      <td>3449</td>\n",
       "      <td>10.5</td>\n",
       "      <td>70</td>\n",
       "      <td>usa</td>\n",
       "      <td>ford torino</td>\n",
       "      <td>ford</td>\n",
       "    </tr>\n",
       "    <tr>\n",
       "      <th>...</th>\n",
       "      <td>...</td>\n",
       "      <td>...</td>\n",
       "      <td>...</td>\n",
       "      <td>...</td>\n",
       "      <td>...</td>\n",
       "      <td>...</td>\n",
       "      <td>...</td>\n",
       "      <td>...</td>\n",
       "      <td>...</td>\n",
       "      <td>...</td>\n",
       "    </tr>\n",
       "    <tr>\n",
       "      <th>393</th>\n",
       "      <td>27.0</td>\n",
       "      <td>4</td>\n",
       "      <td>140.0</td>\n",
       "      <td>86.0</td>\n",
       "      <td>2790</td>\n",
       "      <td>15.6</td>\n",
       "      <td>82</td>\n",
       "      <td>usa</td>\n",
       "      <td>ford mustang gl</td>\n",
       "      <td>ford</td>\n",
       "    </tr>\n",
       "    <tr>\n",
       "      <th>394</th>\n",
       "      <td>44.0</td>\n",
       "      <td>4</td>\n",
       "      <td>97.0</td>\n",
       "      <td>52.0</td>\n",
       "      <td>2130</td>\n",
       "      <td>24.6</td>\n",
       "      <td>82</td>\n",
       "      <td>europe</td>\n",
       "      <td>vw pickup</td>\n",
       "      <td>vw</td>\n",
       "    </tr>\n",
       "    <tr>\n",
       "      <th>395</th>\n",
       "      <td>32.0</td>\n",
       "      <td>4</td>\n",
       "      <td>135.0</td>\n",
       "      <td>84.0</td>\n",
       "      <td>2295</td>\n",
       "      <td>11.6</td>\n",
       "      <td>82</td>\n",
       "      <td>usa</td>\n",
       "      <td>dodge rampage</td>\n",
       "      <td>dodge</td>\n",
       "    </tr>\n",
       "    <tr>\n",
       "      <th>396</th>\n",
       "      <td>28.0</td>\n",
       "      <td>4</td>\n",
       "      <td>120.0</td>\n",
       "      <td>79.0</td>\n",
       "      <td>2625</td>\n",
       "      <td>18.6</td>\n",
       "      <td>82</td>\n",
       "      <td>usa</td>\n",
       "      <td>ford ranger</td>\n",
       "      <td>ford</td>\n",
       "    </tr>\n",
       "    <tr>\n",
       "      <th>397</th>\n",
       "      <td>31.0</td>\n",
       "      <td>4</td>\n",
       "      <td>119.0</td>\n",
       "      <td>82.0</td>\n",
       "      <td>2720</td>\n",
       "      <td>19.4</td>\n",
       "      <td>82</td>\n",
       "      <td>usa</td>\n",
       "      <td>chevy s-10</td>\n",
       "      <td>chevy</td>\n",
       "    </tr>\n",
       "  </tbody>\n",
       "</table>\n",
       "<p>398 rows × 10 columns</p>\n",
       "</div>"
      ],
      "text/plain": [
       "      mpg  cylinders  displacement  horsepower  weight  acceleration  \\\n",
       "0    18.0          8         307.0       130.0    3504          12.0   \n",
       "1    15.0          8         350.0       165.0    3693          11.5   \n",
       "2    18.0          8         318.0       150.0    3436          11.0   \n",
       "3    16.0          8         304.0       150.0    3433          12.0   \n",
       "4    17.0          8         302.0       140.0    3449          10.5   \n",
       "..    ...        ...           ...         ...     ...           ...   \n",
       "393  27.0          4         140.0        86.0    2790          15.6   \n",
       "394  44.0          4          97.0        52.0    2130          24.6   \n",
       "395  32.0          4         135.0        84.0    2295          11.6   \n",
       "396  28.0          4         120.0        79.0    2625          18.6   \n",
       "397  31.0          4         119.0        82.0    2720          19.4   \n",
       "\n",
       "     model_year  origin                       name       make  \n",
       "0            70     usa  chevrolet chevelle malibu  chevrolet  \n",
       "1            70     usa          buick skylark 320      buick  \n",
       "2            70     usa         plymouth satellite   plymouth  \n",
       "3            70     usa              amc rebel sst        amc  \n",
       "4            70     usa                ford torino       ford  \n",
       "..          ...     ...                        ...        ...  \n",
       "393          82     usa            ford mustang gl       ford  \n",
       "394          82  europe                  vw pickup         vw  \n",
       "395          82     usa              dodge rampage      dodge  \n",
       "396          82     usa                ford ranger       ford  \n",
       "397          82     usa                 chevy s-10      chevy  \n",
       "\n",
       "[398 rows x 10 columns]"
      ]
     },
     "execution_count": 30,
     "metadata": {},
     "output_type": "execute_result"
    }
   ],
   "source": [
    "#Starter Code \n",
    "\n",
    "df = pd.read_csv(\"data/mpg_final.csv\")\n",
    "df"
   ]
  },
  {
   "cell_type": "markdown",
   "metadata": {},
   "source": [
    "## 1.1). Drop the missing values from the 'horsepower' column "
   ]
  },
  {
   "cell_type": "code",
   "execution_count": 31,
   "metadata": {},
   "outputs": [
    {
     "data": {
      "text/plain": [
       "0"
      ]
     },
     "execution_count": 31,
     "metadata": {},
     "output_type": "execute_result"
    }
   ],
   "source": [
    "##Begin Solution \n",
    "\n",
    "df.dropna(subset=[\"horsepower\"], inplace=True)\n",
    "\n",
    "##End Solution \n",
    "df[\"horsepower\"].isna().sum()\n"
   ]
  },
  {
   "cell_type": "markdown",
   "metadata": {},
   "source": [
    "## 1.2) Divide the Weight column by 2.205 to turn it into kilograms call this new column 'weight_kg' "
   ]
  },
  {
   "cell_type": "code",
   "execution_count": 32,
   "metadata": {},
   "outputs": [],
   "source": [
    "##Begin Solution \n",
    "\n",
    "\n",
    "df[\"weight_kg\"] = df[\"weight\"].map(lambda x: x/2.205)\n"
   ]
  },
  {
   "cell_type": "markdown",
   "metadata": {},
   "source": [
    "## 1.3) Find the Top 2 Origins with the Most Vehicles "
   ]
  },
  {
   "cell_type": "code",
   "execution_count": 33,
   "metadata": {},
   "outputs": [
    {
     "data": {
      "text/plain": [
       "usa      245\n",
       "japan     79\n",
       "Name: origin, dtype: int64"
      ]
     },
     "execution_count": 33,
     "metadata": {},
     "output_type": "execute_result"
    }
   ],
   "source": [
    "##Begin Solution \n",
    "df[\"origin\"].value_counts()[:2]\n",
    "\n",
    "\n",
    "##End Solution "
   ]
  },
  {
   "cell_type": "markdown",
   "metadata": {},
   "source": [
    "## Part 2) Data Visualization "
   ]
  },
  {
   "cell_type": "markdown",
   "metadata": {},
   "source": [
    "## 2.1 Using matplotlib create a bar chart of the Top 8 makes with the highest frequency \n",
    "### Note:  Please include a chart title, x-label, and y-label \n"
   ]
  },
  {
   "cell_type": "code",
   "execution_count": 36,
   "metadata": {},
   "outputs": [
    {
     "data": {
      "image/png": "[encoded data removed]",
      "text/plain": [
       "<Figure size 720x432 with 1 Axes>"
      ]
     },
     "metadata": {
      "needs_background": "light"
     },
     "output_type": "display_data"
    }
   ],
   "source": [
    "cars_count_figure, ax = plt.subplots(figsize=(10, 6))\n",
    "\n",
    "ax = df[\"make\"].value_counts()[:8].plot(kind = \"bar\")\n",
    "ax.set_title('Top 8 Makes of Cars')\n",
    "ax.set_xlabel('Make')\n",
    "ax.set_ylabel('Number');\n"
   ]
  },
  {
   "cell_type": "markdown",
   "metadata": {},
   "source": [
    "## 2.2 Create a ScatterPlot of Horsepower to MPG \n",
    "### Note:  Please include a chart title, x-label, y-label "
   ]
  },
  {
   "cell_type": "code",
   "execution_count": 44,
   "metadata": {},
   "outputs": [
    {
     "data": {
      "image/png": "[encoded data removed]",
      "text/plain": [
       "<Figure size 720x432 with 1 Axes>"
      ]
     },
     "metadata": {
      "needs_background": "light"
     },
     "output_type": "display_data"
    }
   ],
   "source": [
    "\n",
    "cars_count_figure, ax = plt.subplots(figsize=(10, 6))\n",
    "\n",
    "ax.scatter( x = df.horsepower, y = df.mpg)\n",
    "ax.set_title('Scatter Plot of HP to MPG')\n",
    "ax.set_xlabel('Horsepower')\n",
    "ax.set_ylabel('MPG');\n"
   ]
  },
  {
   "cell_type": "markdown",
   "metadata": {},
   "source": [
    "## 3). Exploring Statistical Data "
   ]
  },
  {
   "cell_type": "markdown",
   "metadata": {},
   "source": [
    "## 3.1) Create one variable called 'mean_acceleration' and another variable called 'median_acceleration' using the acceleration column\n"
   ]
  },
  {
   "cell_type": "code",
   "execution_count": 47,
   "metadata": {},
   "outputs": [
    {
     "name": "stdout",
     "output_type": "stream",
     "text": [
      "15.541326530612244 15.5\n"
     ]
    }
   ],
   "source": [
    "## Begin Solution \n",
    "\n",
    "mean_acceleration = df.acceleration.mean() \n",
    "median_acceleration = df.acceleration.median()  \n",
    "\n",
    "print(mean_acceleration, median_acceleration)"
   ]
  },
  {
   "cell_type": "markdown",
   "metadata": {},
   "source": [
    "## 3.2). Create a variable called 'oldest_ford_modelname' and 'oldest_ford_modelyear' that contains the model name and year of the oldest Ford "
   ]
  },
  {
   "cell_type": "code",
   "execution_count": 93,
   "metadata": {},
   "outputs": [
    {
     "name": "stdout",
     "output_type": "stream",
     "text": [
      "['ford torino' 'ford galaxie 500' 'ford maverick' 'ford f250']\n",
      "[70]\n"
     ]
    }
   ],
   "source": [
    "##Begin Solution \n",
    "\n",
    "fords = df[(df.make == \"ford\") & (df.model_year == df.model_year.min()) ]\n",
    "fords_old = fords[(fords.model_year == fords.model_year.min())]\n",
    "oldest_ford_modelname = fords[\"name\"].unique()\n",
    "oldest_ford_modelyear = fords[\"model_year\"].unique()\n",
    "\n",
    "print(oldest_ford_modelname)\n",
    "print(oldest_ford_modelyear)"
   ]
  },
  {
   "cell_type": "markdown",
   "metadata": {},
   "source": [
    "## Part 4). Python Data Structures "
   ]
  },
  {
   "cell_type": "code",
   "execution_count": 70,
   "metadata": {},
   "outputs": [],
   "source": [
    "##Run this cell without changes \n",
    "\n",
    "mpg_dict = {'chevrolet': {'mpg': 18.0,\n",
    "  'cylinders': 8,\n",
    "  'displacement': 307.0,\n",
    "  'horsepower': 130.0,\n",
    "  'weight': 3504,\n",
    "  'acceleration': 12.0,\n",
    "  'model_year': 70,\n",
    "  'origin': 'usa'},\n",
    " 'buick': {'mpg': 15.0,\n",
    "  'cylinders': 8,\n",
    "  'displacement': 350.0,\n",
    "  'horsepower': 165.0,\n",
    "  'weight': 3693,\n",
    "  'acceleration': 11.5,\n",
    "  'model_year': 70,\n",
    "  'origin': 'europe'},\n",
    " 'plymouth': {'mpg': 18.0,\n",
    "  'cylinders': 8,\n",
    "  'displacement': 318.0,\n",
    "  'horsepower': 150.0,\n",
    "  'weight': 3436,\n",
    "  'acceleration': 11.0,\n",
    "  'model_year': 70,\n",
    "  'origin': 'canada'},\n",
    " 'amc': {'mpg': 16.0,\n",
    "  'cylinders': 8,\n",
    "  'displacement': 304.0,\n",
    "  'horsepower': 150.0,\n",
    "  'weight': 3433,\n",
    "  'acceleration': 12.0,\n",
    "  'model_year': 70,\n",
    "  'origin': 'usa'},\n",
    " 'ford': {'mpg': 17.0,\n",
    "  'cylinders': 8,\n",
    "  'displacement': 302.0,\n",
    "  'horsepower': 140.0,\n",
    "  'weight': 3449,\n",
    "  'acceleration': 10.5,\n",
    "  'model_year': 70,\n",
    "  'origin': 'usa'}}"
   ]
  },
  {
   "cell_type": "markdown",
   "metadata": {},
   "source": [
    "## 4.1). Create a list 'car_brands' of all the makes in the dictionary 'mpg_dict'  "
   ]
  },
  {
   "cell_type": "code",
   "execution_count": 74,
   "metadata": {},
   "outputs": [
    {
     "data": {
      "text/plain": [
       "['chevrolet', 'buick', 'plymouth', 'amc', 'ford']"
      ]
     },
     "execution_count": 74,
     "metadata": {},
     "output_type": "execute_result"
    }
   ],
   "source": [
    "##Begin Solution \n",
    "car_brands = list(mpg_dict.keys())\n",
    "\n",
    "car_brands\n",
    "##End Solution "
   ]
  },
  {
   "cell_type": "markdown",
   "metadata": {},
   "source": [
    "## 4.2). Create a list of Tuples containing each Car Make's Name and their corresponding Horsepower "
   ]
  },
  {
   "cell_type": "code",
   "execution_count": 75,
   "metadata": {},
   "outputs": [
    {
     "data": {
      "text/plain": [
       "[('chevrolet', 130.0),\n",
       " ('buick', 165.0),\n",
       " ('plymouth', 150.0),\n",
       " ('amc', 150.0),\n",
       " ('ford', 140.0)]"
      ]
     },
     "execution_count": 75,
     "metadata": {},
     "output_type": "execute_result"
    }
   ],
   "source": [
    "##Begin Solution \n",
    "make_hp = [(brand, mpg_dict[brand][\"horsepower\"]) for brand in mpg_dict]\n",
    "make_hp\n"
   ]
  },
  {
   "cell_type": "markdown",
   "metadata": {},
   "source": [
    "## 4.3)  Define a function 'get_cars_origin' that returns a list of car makes of all car makes of a given origin\n",
    "\n",
    "### Your function should take two arguments:\n",
    "\n",
    "A dictionary of car information ('mpg_dict')\n",
    "A string containing an origin (for which you are trying to find the car makes' origin)"
   ]
  },
  {
   "cell_type": "code",
   "execution_count": 80,
   "metadata": {},
   "outputs": [],
   "source": [
    "##Begin Solution \n",
    "\n",
    "\n",
    "def get_cars_origin(mpg_dict, car_origin):\n",
    "    make_list = []\n",
    "    for brand in mpg_dict:\n",
    "        if car_origin in mpg_dict[brand][\"origin\"]:\n",
    "            make_list.append(brand)\n",
    "\n",
    "    return make_list\n",
    "\n",
    "##End Solution "
   ]
  },
  {
   "cell_type": "code",
   "execution_count": null,
   "metadata": {},
   "outputs": [],
   "source": []
  },
  {
   "cell_type": "code",
   "execution_count": 82,
   "metadata": {},
   "outputs": [
    {
     "data": {
      "text/plain": [
       "['chevrolet', 'amc', 'ford']"
      ]
     },
     "execution_count": 82,
     "metadata": {},
     "output_type": "execute_result"
    }
   ],
   "source": [
    "get_cars_origin(mpg_dict, \"usa\")"
   ]
  },
  {
   "cell_type": "code",
   "execution_count": null,
   "metadata": {},
   "outputs": [],
   "source": []
  }
 ],
 "metadata": {
  "kernelspec": {
   "display_name": "Python 3",
   "language": "python",
   "name": "python3"
  },
  "language_info": {
   "codemirror_mode": {
    "name": "ipython",
    "version": 3
   },
   "file_extension": ".py",
   "mimetype": "text/x-python",
   "name": "python",
   "nbconvert_exporter": "python",
   "pygments_lexer": "ipython3",
   "version": "3.8.5"
  }
 },
 "nbformat": 4,
 "nbformat_minor": 5
}
